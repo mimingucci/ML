{
  "nbformat": 4,
  "nbformat_minor": 0,
  "metadata": {
    "colab": {
      "provenance": [],
      "authorship_tag": "ABX9TyNrh7qedjMtP4gXS+ttHW73",
      "include_colab_link": true
    },
    "kernelspec": {
      "name": "python3",
      "display_name": "Python 3"
    },
    "language_info": {
      "name": "python"
    }
  },
  "cells": [
    {
      "cell_type": "markdown",
      "metadata": {
        "id": "view-in-github",
        "colab_type": "text"
      },
      "source": [
        "<a href=\"https://colab.research.google.com/github/mimingucci/ML/blob/main/LinearRegression.ipynb\" target=\"_parent\"><img src=\"https://colab.research.google.com/assets/colab-badge.svg\" alt=\"Open In Colab\"/></a>"
      ]
    },
    {
      "cell_type": "markdown",
      "source": [
        "Construct linear regression by hand"
      ],
      "metadata": {
        "id": "51p3zT35JEry"
      }
    },
    {
      "cell_type": "markdown",
      "source": [
        "We have β=((XᵀX)-1)Xᵀy"
      ],
      "metadata": {
        "id": "_Ho1vzTYJMTn"
      }
    },
    {
      "cell_type": "code",
      "execution_count": 1,
      "metadata": {
        "id": "Xh2HBwcoJDiF"
      },
      "outputs": [],
      "source": [
        "import numpy as np"
      ]
    },
    {
      "cell_type": "code",
      "source": [
        "class LinearRegression:\n",
        "  def fit(self, X, y):\n",
        "    # add 1 as intercept in head of every row\n",
        "    ones=np.ones(len(X)).reshape(-1, 1)\n",
        "    X=np.concatenate((ones, X), axis=1)\n",
        "    self.X=np.array(X)\n",
        "    self.y=np.array(y)\n",
        "    self.N, self.D=self.X.shape\n",
        "\n",
        "    XtX = np.dot(self.X.T, self.X)\n",
        "    XtX_inverse = np.linalg.inv(XtX)\n",
        "    Xty = np.dot(self.X.T, self.y)\n",
        "    self.weights = np.dot(XtX_inverse, Xty)\n",
        "\n",
        "    self.label=np.dot(self.weights, self.X)\n",
        "\n",
        "    self.loss=0.5*np.sum((self.y-self.label)**2)\n",
        "\n",
        "  def predict(self, X):\n",
        "    ones=np.ones(len(X)).reshape(-1, 1)\n",
        "    X=np.concatenate((ones, X), axis=1)\n",
        "    return np.dot(self.weights, X)"
      ],
      "metadata": {
        "id": "QaR7BXWNKM6u"
      },
      "execution_count": 2,
      "outputs": []
    },
    {
      "cell_type": "markdown",
      "source": [
        "*Using sklearn library"
      ],
      "metadata": {
        "id": "qaR4ZNTuMo88"
      }
    },
    {
      "cell_type": "code",
      "source": [
        "from sklearn.linear_model import LinearRegression\n",
        "sklearn_model = LinearRegression()\n",
        "\n",
        "# load dataset handle data\n",
        "# visulize data seaborn, matplotlib.pyplot, ...\n",
        "# using sklearn_model.fit(X, y) to train model\n",
        "# using predict method to predict label"
      ],
      "metadata": {
        "id": "O92sUfVpMsyy"
      },
      "execution_count": 4,
      "outputs": []
    },
    {
      "cell_type": "markdown",
      "source": [
        "Implement gradient descent to identify weight"
      ],
      "metadata": {
        "id": "he8Ex7eDNu5J"
      }
    },
    {
      "cell_type": "code",
      "source": [
        "# f(x)=x^2 so derivative of f(x) is 2*x\n",
        "# step 1: initialize x with random value\n",
        "# step 2: x=x-learning_rate*f'(x)\n",
        "# step 3: calculate f(x), if f(x) is small enough we stop algorithm, if not we continue step 2 again\n",
        "import matplotlib.pyplot as plt\n",
        "x = 10\n",
        "y = []\n",
        "for i in range(10):\n",
        "  x = x- 0.1 * 2 * x\n",
        "  y.append(x**2)\n",
        "plt.plot(y)\n",
        "plt.xlabel('step')\n",
        "plt.ylabel('f(x)')\n",
        "plt.title('f(x) values:')\n",
        "plt.show()"
      ],
      "metadata": {
        "colab": {
          "base_uri": "https://localhost:8080/",
          "height": 472
        },
        "id": "i4RiVFKMN4ow",
        "outputId": "ffefac49-ec69-446e-8eeb-910d1561ba03"
      },
      "execution_count": 6,
      "outputs": [
        {
          "output_type": "display_data",
          "data": {
            "text/plain": [
              "<Figure size 640x480 with 1 Axes>"
            ],
            "image/png": "[encoded data removed]"
          },
          "metadata": {}
        }
      ]
    }
  ]
}