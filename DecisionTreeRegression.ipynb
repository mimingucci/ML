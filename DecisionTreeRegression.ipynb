{
  "nbformat": 4,
  "nbformat_minor": 0,
  "metadata": {
    "colab": {
      "provenance": [],
      "authorship_tag": "ABX9TyMp8zsO2NeSYgnC0S8VxLS0",
      "include_colab_link": true
    },
    "kernelspec": {
      "name": "python3",
      "display_name": "Python 3"
    },
    "language_info": {
      "name": "python"
    }
  },
  "cells": [
    {
      "cell_type": "markdown",
      "metadata": {
        "id": "view-in-github",
        "colab_type": "text"
      },
      "source": [
        "<a href=\"https://colab.research.google.com/github/mimingucci/ML/blob/main/DecisionTreeRegression.ipynb\" target=\"_parent\"><img src=\"https://colab.research.google.com/assets/colab-badge.svg\" alt=\"Open In Colab\"/></a>"
      ]
    },
    {
      "cell_type": "code",
      "execution_count": 3,
      "metadata": {
        "id": "cgiquBimuoxM"
      },
      "outputs": [],
      "source": [
        "import numpy as np\n",
        "import matplotlib.pyplot as plt\n",
        "import seaborn as sns\n",
        "from sklearn import datasets"
      ]
    },
    {
      "cell_type": "code",
      "source": [
        "tips=sns.load_dataset('tips')\n",
        "print(tips)\n",
        "x=np.array(tips.drop(columns='tip'))\n",
        "y=np.array(tips['tip'])"
      ],
      "metadata": {
        "colab": {
          "base_uri": "https://localhost:8080/"
        },
        "id": "YS0frv-Ju3LC",
        "outputId": "473e2bdb-8c25-4d6e-a70b-abc06f5e0239"
      },
      "execution_count": 4,
      "outputs": [
        {
          "output_type": "stream",
          "name": "stdout",
          "text": [
            "     total_bill   tip     sex smoker   day    time  size\n",
            "0         16.99  1.01  Female     No   Sun  Dinner     2\n",
            "1         10.34  1.66    Male     No   Sun  Dinner     3\n",
            "2         21.01  3.50    Male     No   Sun  Dinner     3\n",
            "3         23.68  3.31    Male     No   Sun  Dinner     2\n",
            "4         24.59  3.61  Female     No   Sun  Dinner     4\n",
            "..          ...   ...     ...    ...   ...     ...   ...\n",
            "239       29.03  5.92    Male     No   Sat  Dinner     3\n",
            "240       27.18  2.00  Female    Yes   Sat  Dinner     2\n",
            "241       22.67  2.00    Male    Yes   Sat  Dinner     2\n",
            "242       17.82  1.75    Male     No   Sat  Dinner     2\n",
            "243       18.78  3.00  Female     No  Thur  Dinner     2\n",
            "\n",
            "[244 rows x 7 columns]\n"
          ]
        }
      ]
    },
    {
      "cell_type": "code",
      "source": [
        "test_sz=int(len(y)*0.2)\n",
        "x_test=x[:test_sz]\n",
        "y_test=y[:test_sz]\n",
        "x_train=x[test_sz:]\n",
        "y_train=y[test_sz:]"
      ],
      "metadata": {
        "id": "5xznHMs-wZAp"
      },
      "execution_count": 5,
      "outputs": []
    },
    {
      "cell_type": "code",
      "source": [
        "def rss_reduction(parent, left, right):\n",
        "  p=sum((parent-np.mean(parent))**2)\n",
        "  l=sum((left-np.mean(left))**2)\n",
        "  r=sum((right-np.mean(right))**2)\n",
        "  return p-(l+r)"
      ],
      "metadata": {
        "id": "zfo889KhyW7O"
      },
      "execution_count": 6,
      "outputs": []
    },
    {
      "cell_type": "code",
      "source": [
        "def sort_x_by_y(x, y):\n",
        "  unique_xs=np.unique(x)\n",
        "  y_mean_by_per_x=[(y[x==i]).mean() for i in unique_xs]\n",
        "  return unique_xs[np.argsort(y_mean_by_per_x)]"
      ],
      "metadata": {
        "id": "7ngzYphUzEZK"
      },
      "execution_count": 7,
      "outputs": []
    },
    {
      "cell_type": "code",
      "source": [
        "def all_nodes_in_same_depth_equal(x):\n",
        "  return (x==x[0]).all()"
      ],
      "metadata": {
        "id": "rY-q2PXk0bXK"
      },
      "execution_count": 8,
      "outputs": []
    },
    {
      "cell_type": "code",
      "source": [
        "class Node:\n",
        "    def __init__(self, xsub, ysub, ID, depth = 0, parent_ID = None, leaf = True):\n",
        "        self.ID = ID\n",
        "        self.x = xsub\n",
        "        self.y = ysub\n",
        "        self.size = len(ysub)\n",
        "        self.depth = depth\n",
        "        self.parent_ID = parent_ID\n",
        "        self.leaf = leaf"
      ],
      "metadata": {
        "id": "q05tT-eH0r7K"
      },
      "execution_count": 9,
      "outputs": []
    },
    {
      "cell_type": "code",
      "source": [
        "class Splitter:\n",
        "    def __init__(self):\n",
        "        self.rss_reduction = 0\n",
        "        self.no_split = True\n",
        "\n",
        "    def change_split_way(self, rss_reduction, d, dtype = 'quant', t = None, L_values = None):\n",
        "        self.rss_reduction = rss_reduction\n",
        "        self.d = d\n",
        "        self.dtype = dtype\n",
        "        self.t = t\n",
        "        self.left_child_values = L_values\n",
        "        self.no_split = False"
      ],
      "metadata": {
        "id": "NNB6k6Ni2LYq"
      },
      "execution_count": 10,
      "outputs": []
    },
    {
      "cell_type": "code",
      "source": [
        "class DecisionTreeRegression:\n",
        "  def fit(self, x, y, max_depth = 100, min_size = 2, C = None):\n",
        "      self.x=x\n",
        "      self.y=y\n",
        "      self.N, self.D=self.x.shape\n",
        "      dt=[np.array(list(self.x[:, d])).dtype for d in range(self.D)]\n",
        "      self.dtypes=['quant' if (d==int or d==float) else 'cat' for d in dt]\n",
        "      self.max_depth = max_depth\n",
        "      self.min_size = min_size\n",
        "      self.C = C\n",
        "      self.nodes = {}\n",
        "      self.current_ID = 0\n",
        "      root_node = Node(xsub = x, ysub = y, ID = self.current_ID, parent_ID = None)\n",
        "      self.nodes[self.current_ID] = root_node\n",
        "      self.current_ID += 1\n",
        "  def build(self):\n",
        "      buds=self.nodes\n",
        "      for layer in range(self.max_depth):\n",
        "          buds={id:node for (id, node) in self.nodes.items() if (node.leaf==True) & (node.size>=self.min_size) & (~all_nodes_in_same_depth_equal(node.x)) & (len(np.unique(node.y))>1)}\n",
        "          if(len(buds)==0):\n",
        "            break\n",
        "          for id, node in buds.items():\n",
        "            self.find_split_way()\n",
        "            if self.splitter.no_split==False:\n",
        "              self.make_split()\n",
        "\n",
        "  def find_split_way(self, bud):\n",
        "      splitter=Splitter()\n",
        "      splitter.id=bud.ID\n",
        "      if self.C is None:\n",
        "        predictors=np.arange(self.D)\n",
        "      else:\n",
        "        predictors=np.random.choice(np.arange(self.D), self.C, replace=False)\n",
        "\n",
        "      for i in sorted(predictors):\n",
        "        xsub=bud.x[:, i]\n",
        "        dtype=self.dtypes[i]\n",
        "        if(len(np.unique(xsub))==1):\n",
        "          continue\n",
        "        if dtype=='quant':\n",
        "          for t in np.unique(xsub)[:-1]:#except last one\n",
        "             y_left=bud.y[x<=t]\n",
        "             y_right=bud.y[x>t]\n",
        "             rss=rss_reduction(bud.y, y_left, y_right)\n",
        "             if rss>splitter.rss_reduction:\n",
        "              splitter.change_split_way(rss, d=i, dtype='quant', t=t)\n",
        "        else:\n",
        "          x_order_by_y=sort_x_by_y(xsub, bud.y)\n",
        "          for j in range(len(x_order_by_y)-1):\n",
        "            left_child_values=x_order_by_y[:j+1]\n",
        "            left=bud.y[np.isin(xsub, left_child_values)]\n",
        "            right=bud.y[~np.isin(xsub, left_child_values)]\n",
        "            rss=rss_reduction(bud.y, left, right)\n",
        "            if rss>splitter.rss_reduction:\n",
        "              splitter.change_split_way(rss, i, 'con', L_values=left_child_values)\n",
        "      #save\n",
        "      self.splitter=splitter\n",
        "\n",
        "  def make_split(self):\n",
        "    # Update parent node\n",
        "    parent_node = self.nodes[self.splitter.id]\n",
        "    parent_node.leaf = False\n",
        "    parent_node.child_left_id = self.current_ID\n",
        "    parent_node.child_right_id = self.current_ID + 1\n",
        "    parent_node.d = self.splitter.d\n",
        "    parent_node.dtype = self.splitter.dtype\n",
        "    parent_node.t = self.splitter.t\n",
        "    parent_node.left_child_values = self.splitter.left_child_values\n",
        "\n",
        "    if parent_node.dtype == 'quant':\n",
        "        L_condition = parent_node.x[:,parent_node.d] <= parent_node.t\n",
        "    else:\n",
        "        L_condition = np.isin(parent_node.x[:,parent_node.d], parent_node.left_child_values)\n",
        "    xchild_L = parent_node.x[L_condition]\n",
        "    ychild_L = parent_node.y[L_condition]\n",
        "    xchild_R = parent_node.x[~L_condition]\n",
        "    ychild_R = parent_node.y[~L_condition]\n",
        "\n",
        "\n",
        "    # Create child nodes\n",
        "    left_child_node = Node(xchild_L, ychild_L, depth = parent_node.depth + 1,\n",
        "                        ID = self.current_ID, parent_ID = parent_node.ID)\n",
        "    right_child_node = Node(xchild_R, ychild_R, depth = parent_node.depth + 1,\n",
        "                        ID = self.current_ID+1, parent_ID = parent_node.ID)\n",
        "    self.nodes[self.current_ID] = left_child_node\n",
        "    self.nodes[self.current_ID + 1] = right_child_node\n",
        "    self.current_ID += 2\n",
        "\n",
        "  def get_leaf_means(self):\n",
        "    self.leaf_means = {}\n",
        "    for id, node in self.nodes.items():\n",
        "        if node.leaf:\n",
        "            self.leaf_means[id] = node.y.mean()\n",
        "\n",
        "\n",
        "  ####### PREDICT ########\n",
        "  def predict(self, X_test):\n",
        "\n",
        "    # Calculate leaf means\n",
        "    self.get_leaf_means()\n",
        "\n",
        "    yhat = []\n",
        "    for x in X_test:\n",
        "        node = self.nodes[0] # here we are root node\n",
        "        while not node.leaf:\n",
        "            if node.dtype == 'quant':\n",
        "                if x[node.d] <= node.t:\n",
        "                    node = self.nodes[node.child_left_id]\n",
        "                else:\n",
        "                    node = self.nodes[node.child_right_id]\n",
        "            else:\n",
        "                if x[node.d] in node.left_child_values:\n",
        "                    node = self.nodes[node.child_left_id]\n",
        "                else:\n",
        "                    node = self.nodes[node.child_right_id]\n",
        "        yhat.append(self.leaf_means[node.ID])\n",
        "    return np.array(yhat)\n"
      ],
      "metadata": {
        "id": "AS4uOOOC39So"
      },
      "execution_count": 24,
      "outputs": []
    },
    {
      "cell_type": "code",
      "source": [
        "tree=DecisionTreeRegression()\n",
        "tree.fit(x_train, y_train, max_depth=7, min_size=5)\n",
        "y_predict=tree.predict(x_test)\n",
        "print(y_predict)"
      ],
      "metadata": {
        "colab": {
          "base_uri": "https://localhost:8080/"
        },
        "id": "fOgdL5SXHBy7",
        "outputId": "37ca7225-a8cd-4a29-f4dd-984819ba5070"
      },
      "execution_count": 25,
      "outputs": [
        {
          "output_type": "stream",
          "name": "stdout",
          "text": [
            "[2.97015306 2.97015306 2.97015306 2.97015306 2.97015306 2.97015306\n",
            " 2.97015306 2.97015306 2.97015306 2.97015306 2.97015306 2.97015306\n",
            " 2.97015306 2.97015306 2.97015306 2.97015306 2.97015306 2.97015306\n",
            " 2.97015306 2.97015306 2.97015306 2.97015306 2.97015306 2.97015306\n",
            " 2.97015306 2.97015306 2.97015306 2.97015306 2.97015306 2.97015306\n",
            " 2.97015306 2.97015306 2.97015306 2.97015306 2.97015306 2.97015306\n",
            " 2.97015306 2.97015306 2.97015306 2.97015306 2.97015306 2.97015306\n",
            " 2.97015306 2.97015306 2.97015306 2.97015306 2.97015306 2.97015306]\n"
          ]
        }
      ]
    },
    {
      "cell_type": "code",
      "source": [
        "plt.scatter(y_predict, y_test, c='green')\n",
        "plt.xlabel('y^')\n",
        "plt.ylabel('y')\n",
        "plt.show()"
      ],
      "metadata": {
        "colab": {
          "base_uri": "https://localhost:8080/",
          "height": 449
        },
        "id": "fyxJbQJLHf8H",
        "outputId": "8b440d4c-4429-4495-8955-8dc1878408f6"
      },
      "execution_count": null,
      "outputs": [
        {
          "output_type": "display_data",
          "data": {
            "text/plain": [
              "<Figure size 640x480 with 1 Axes>"
            ],
            "image/png": "[encoded data removed]"
          },
          "metadata": {}
        }
      ]
    }
  ]
}