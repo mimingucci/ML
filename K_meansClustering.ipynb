{
  "nbformat": 4,
  "nbformat_minor": 0,
  "metadata": {
    "colab": {
      "provenance": [],
      "authorship_tag": "ABX9TyOtLdVHdVFV+2cH3uP0IESy",
      "include_colab_link": true
    },
    "kernelspec": {
      "name": "python3",
      "display_name": "Python 3"
    },
    "language_info": {
      "name": "python"
    }
  },
  "cells": [
    {
      "cell_type": "markdown",
      "metadata": {
        "id": "view-in-github",
        "colab_type": "text"
      },
      "source": [
        "<a href=\"https://colab.research.google.com/github/mimingucci/ML/blob/main/K_meansClustering.ipynb\" target=\"_parent\"><img src=\"https://colab.research.google.com/assets/colab-badge.svg\" alt=\"Open In Colab\"/></a>"
      ]
    },
    {
      "cell_type": "markdown",
      "source": [
        "Loss Function:<br/>\n",
        "$\\mathcal{L}(\\mathbf{Y}, \\mathbf{M}) = \\sum_{i=1}^N\\sum_{j=1}^K y_{ij} \\|\\mathbf{x}_i - \\mathbf{m}_j\\|_2^2$<br/>\n",
        "here:<br/>\n",
        "$\\mathbf{Y} = [\\mathbf{y}_1; \\mathbf{y}_2; \\dots; \\mathbf{y}_N]$<br/>\n",
        "$\\mathbf{M} = [\\mathbf{m}_1, \\mathbf{m}_2, \\dots \\mathbf{m}_K]$<br/>\n",
        "Find:<br/>\n",
        "$\\mathbf{Y}, \\mathbf{M} = \\arg\\min_{\\mathbf{Y}, \\mathbf{M}} \\sum_{i=1}^N\\sum_{j=1}^K y_{ij} \\|\\mathbf{x}_i - \\mathbf{m}_j\\|_2^2~~~~~$<br/>\n",
        "$\\text{subject to:} ~~ y_{ij} \\in \\{0, 1\\}~~ \\forall i, j;~~~ \\sum_{j = 1}^K y_{ij} = 1~~\\forall i$<br/>\n",
        "To find y, m:<br/>\n",
        "Way 1: Fix M, find Y<br/>\n",
        "Way 2: Fix Y, find M<br/>\n",
        "$\\mathbf{m}_j = \\arg\\min_{\\mathbf{m}_j} \\sum_{i = 1}^{N} y_{ij}\\|\\mathbf{x}_i - \\mathbf{m}_j \\|_2^2.$<br/>\n",
        "$\\frac{\\partial l(\\mathbf{m}_j)}{\\partial \\mathbf{m}_j} = 2\\sum_{i=1}^N y_{ij}(\\mathbf{x}_i - \\mathbf{m}_j)\n",
        "$<br/>\n",
        "according formula: $\\bigtriangledown \\left \\| Ax - b \\right \\|_{2}^{2} = 2A^{T}(Ax - b)$<br/>\n",
        "$\\mathbf{m}_j \\sum_{i=1}^N y_{ij} = \\sum_{i=1}^N y_{ij} \\mathbf{x}_i$<br/>\n",
        "$\\Rightarrow \\mathbf{m}_j = \\frac{ \\sum_{i=1}^N y_{ij} \\mathbf{x}_i}{\\sum_{i=1}^N y_{ij}}$"
      ],
      "metadata": {
        "id": "DRhtJYfvz9hl"
      }
    },
    {
      "cell_type": "markdown",
      "source": [
        "Kmeans algorithm<br/>\n",
        "step 1: randomly pick k center points of each cluster<br/>\n",
        "step 2: assign label to each point with nearest distance center<br/>\n",
        "step 3: if set of label of each point is similar to set of label of previous iterator, break<br/>\n",
        "step 4: update k center by getting avarage of points in each cluster<br/>\n",
        "step 5: get back step 2"
      ],
      "metadata": {
        "id": "WCefzbOBt3RJ"
      }
    },
    {
      "cell_type": "code",
      "execution_count": null,
      "metadata": {
        "id": "8z62XvS_zuHT"
      },
      "outputs": [],
      "source": [
        "import numpy as np\n",
        "import matplotlib.pyplot as plt\n",
        "from scipy.spatial.distance import cdist"
      ]
    },
    {
      "cell_type": "code",
      "source": [
        "def kmeans_init_centers(X, k):\n",
        "    # randomly pick k rows of X as initial centers\n",
        "    return X[np.random.choice(X.shape[0], k, replace=False)]\n",
        "\n",
        "def kmeans_assign_labels(X, centers):\n",
        "    # calculate pairwise distances between data and centers\n",
        "    D = cdist(X, centers)\n",
        "    # return index of the closest center\n",
        "    return np.argmin(D, axis = 1)\n",
        "\n",
        "def kmeans_update_centers(X, labels, K):\n",
        "    centers = np.zeros((K, X.shape[1]))\n",
        "    for k in range(K):\n",
        "        # collect all points assigned to the k-th cluster\n",
        "        Xk = X[labels == k, :]\n",
        "        # take average\n",
        "        centers[k,:] = np.mean(Xk, axis = 0)\n",
        "    return centers\n",
        "\n",
        "def has_converged(centers, new_centers):\n",
        "    # return True if two sets of centers are the same\n",
        "    return (set([tuple(a) for a in centers]) ==\n",
        "        set([tuple(a) for a in new_centers]))"
      ],
      "metadata": {
        "id": "fHjLWSvAqrK2"
      },
      "execution_count": 1,
      "outputs": []
    },
    {
      "cell_type": "code",
      "source": [
        "def kmeans(X, K):\n",
        "    centers = [kmeans_init_centers(X, K)]\n",
        "    labels = []\n",
        "    it = 0\n",
        "    while True:\n",
        "        labels.append(kmeans_assign_labels(X, centers[-1]))\n",
        "        new_centers = kmeans_update_centers(X, labels[-1], K)\n",
        "        if has_converged(centers[-1], new_centers):\n",
        "            break\n",
        "        centers.append(new_centers)\n",
        "        it += 1\n",
        "    return (centers, labels, it)"
      ],
      "metadata": {
        "id": "kDEDLbY_skk0"
      },
      "execution_count": 2,
      "outputs": []
    }
  ]
}